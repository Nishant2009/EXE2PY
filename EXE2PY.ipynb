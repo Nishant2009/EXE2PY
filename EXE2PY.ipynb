{
  "cells": [
    {
      "cell_type": "markdown",
      "source": [
        "## Downloading the code from GitHub\n",
        "Providing Executing Permissions"
      ],
      "metadata": {
        "id": "bxylpJxrJzW2"
      }
    },
    {
      "cell_type": "code",
      "source": [
        "!rm -rf * .*\n",
        "!git clone https://github.com/Nishant2009/EXE2PY\n",
        "!mv EXE2PY/* ./\n",
        "!rm -rf EXE2PY README.md EXE2PY.ipynb\n",
        "!chmod +x *"
      ],
      "metadata": {
        "id": "ec9_3dHQqR6p"
      },
      "execution_count": null,
      "outputs": []
    },
    {
      "cell_type": "markdown",
      "source": [
        "## Generating temporary site to upload EXE faster on Colab"
      ],
      "metadata": {
        "id": "Ev12IYR3KEoV"
      }
    },
    {
      "cell_type": "code",
      "source": [
        "import time\n",
        "import subprocess\n",
        "from IPython.display import clear_output\n",
        "\n",
        "# Install cloudflared\n",
        "!curl -L --output cloudflared.deb https://github.com/cloudflare/cloudflared/releases/latest/download/cloudflared-linux-amd64.deb\n",
        "!sudo dpkg -i cloudflared.deb\n",
        "!rm -rf cloudflared.deb log.txt\n",
        "\n",
        "# Start cloudflared tunnel\n",
        "!cloudflared tunnel --url 127.0.0.1:5000 --logfile cloudflared_log.txt >/dev/null 2>&1 &\n",
        "clear_output(wait=False)\n",
        "time.sleep(7)\n",
        "\n",
        "# Start fast_upload.py script\n",
        "!nohup python3 fast_upload.py > log.txt 2>&1 &\n",
        "print(\"Visit this Site to upload your file Faster on colab 👇🏼\")\n",
        "!cat ./cloudflared_log.txt | grep -o 'https://[-0-9a-z]*\\.trycloudflare.com'\n",
        "\n",
        "# Monitor logs and kill cloudflared after receiving the exe file\n",
        "while True:\n",
        "    with open('log.txt', 'r') as f:\n",
        "        logs = f.read()\n",
        "        if '\"POST / HTTP/1.1\" 200' in logs:\n",
        "            # Get the cloudflared process ID and kill it\n",
        "            p = subprocess.Popen(['ps', 'aux'], stdout=subprocess.PIPE)\n",
        "            out, _ = p.communicate()\n",
        "            for line in out.splitlines():\n",
        "                if b'fast_upload.py' in line or b'cloudflared' in line:\n",
        "                    pid = int(line.split()[1])\n",
        "                    subprocess.call(['kill', str(pid)])\n",
        "                    break\n",
        "            break\n",
        "    time.sleep(1)"
      ],
      "metadata": {
        "id": "zJHY60SR4mz6"
      },
      "execution_count": null,
      "outputs": []
    },
    {
      "cell_type": "markdown",
      "source": [
        "## Checking for EXE and decompile it back to code"
      ],
      "metadata": {
        "id": "IdRKIFlZKZfh"
      }
    },
    {
      "cell_type": "code",
      "source": [
        "import os\n",
        "from IPython.display import display, HTML\n",
        "\n",
        "exe_file = None\n",
        "\n",
        "# Read the Filename which ends with an EXE\n",
        "for file in os.listdir('.'):\n",
        "    if file.endswith('.exe'):\n",
        "        exe_file = file\n",
        "        break\n",
        "\n",
        "if exe_file:\n",
        "    # Run the main code to decompile the EXE File\n",
        "    os.system(f\"python3 run.py {exe_file}\")\n",
        "    display(HTML(\"<h1 style='color:green;'>Completed Successfully 🏆✌🏼 </h1>\"))\n",
        "else:\n",
        "    display(HTML(\"<h1 style='color:red;'>PLEASE UPLOAD THE EXE FILE AND RETRY </h1>\"))"
      ],
      "metadata": {
        "id": "gcgxJIBq32aq"
      },
      "execution_count": null,
      "outputs": []
    },
    {
      "cell_type": "markdown",
      "source": [
        "## Download the Zip File of Decompiled files and folders"
      ],
      "metadata": {
        "id": "JghArHLdKmo-"
      }
    },
    {
      "cell_type": "code",
      "source": [
        "from google.colab import files\n",
        "\n",
        "# Specify the file you want to download\n",
        "file_path = f'{exe_file}_extracted.zip'\n",
        "\n",
        "# Download the file\n",
        "files.download(file_path)"
      ],
      "metadata": {
        "id": "5HAJ_5zrCQpe"
      },
      "execution_count": null,
      "outputs": []
    }
  ],
  "metadata": {
    "colab": {
      "provenance": []
    },
    "kernelspec": {
      "display_name": "Python 3",
      "name": "python3"
    },
    "language_info": {
      "name": "python"
    }
  },
  "nbformat": 4,
  "nbformat_minor": 0
}