{
  "cells": [
    {
      "cell_type": "markdown",
      "source": [
        "## Downloading the code from GitHub\n",
        "Providing Executing Permissions"
      ],
      "metadata": {
        "id": "bxylpJxrJzW2"
      }
    },
    {
      "cell_type": "code",
      "source": [
        "!rm -rf * .*\n",
        "!git clone https://github.com/Nishant2009/EXE2PY\n",
        "!mv EXE2PY/* ./\n",
        "!rm -rf EXE2PY README.md EXE2PY.ipynb\n",
        "!chmod +x *"
      ],
      "metadata": {
        "id": "ec9_3dHQqR6p",
        "outputId": "fb79e319-fd4d-408f-8e8d-fabf9344a85c",
        "colab": {
          "base_uri": "https://localhost:8080/"
        }
      },
      "execution_count": 6,
      "outputs": [
        {
          "output_type": "stream",
          "name": "stdout",
          "text": [
            "Cloning into 'EXE2PY'...\n",
            "remote: Enumerating objects: 13, done.\u001b[K\n",
            "remote: Counting objects: 100% (13/13), done.\u001b[K\n",
            "remote: Compressing objects: 100% (12/12), done.\u001b[K\n",
            "remote: Total 13 (delta 1), reused 0 (delta 0), pack-reused 0 (from 0)\u001b[K\n",
            "Receiving objects: 100% (13/13), 635.29 KiB | 7.75 MiB/s, done.\n",
            "Resolving deltas: 100% (1/1), done.\n"
          ]
        }
      ]
    },
    {
      "cell_type": "markdown",
      "source": [
        "## Generating temporary site to upload EXE faster on Colab"
      ],
      "metadata": {
        "id": "Ev12IYR3KEoV"
      }
    },
    {
      "cell_type": "code",
      "source": [
        "import time\n",
        "import subprocess\n",
        "from IPython.display import clear_output\n",
        "\n",
        "# Install cloudflared\n",
        "!curl -L --output cloudflared.deb https://github.com/cloudflare/cloudflared/releases/latest/download/cloudflared-linux-amd64.deb\n",
        "!sudo dpkg -i cloudflared.deb\n",
        "!rm -rf cloudflared.deb log.txt\n",
        "\n",
        "# Start cloudflared tunnel\n",
        "!cloudflared tunnel --url 127.0.0.1:5000 --logfile cloudflared_log.txt >/dev/null 2>&1 &\n",
        "clear_output(wait=False)\n",
        "time.sleep(7)\n",
        "\n",
        "# Start fast_upload.py script\n",
        "!nohup python3 fast_upload.py > log.txt 2>&1 &\n",
        "print(\"Visit this Site to upload your file Faster on colab 👇🏼\")\n",
        "!cat ./cloudflared_log.txt | grep -o 'https://[-0-9a-z]*\\.trycloudflare.com'\n",
        "\n",
        "# Monitor logs and kill cloudflared after receiving the exe file\n",
        "while True:\n",
        "    with open('log.txt', 'r') as f:\n",
        "        logs = f.read()\n",
        "        if '\"POST / HTTP/1.1\" 200' in logs:\n",
        "            # Get the cloudflared process ID and kill it\n",
        "            p = subprocess.Popen(['ps', 'aux'], stdout=subprocess.PIPE)\n",
        "            out, _ = p.communicate()\n",
        "            for line in out.splitlines():\n",
        "                if b'fast_upload.py' in line or b'cloudflared' in line:\n",
        "                    pid = int(line.split()[1])\n",
        "                    subprocess.call(['kill', str(pid)])\n",
        "                    break\n",
        "            break\n",
        "    time.sleep(1)"
      ],
      "metadata": {
        "id": "zJHY60SR4mz6",
        "outputId": "cf635ee5-fd92-4ddd-a35b-f643351dec5b",
        "colab": {
          "base_uri": "https://localhost:8080/"
        }
      },
      "execution_count": 2,
      "outputs": [
        {
          "output_type": "stream",
          "name": "stdout",
          "text": [
            "Visit this Site to upload your file Faster on colab 👇🏼\n",
            "https://citysearch-kingston-jeffrey-cam.trycloudflare.com\n"
          ]
        }
      ]
    },
    {
      "cell_type": "markdown",
      "source": [
        "## Checking for EXE and decompile it back to code"
      ],
      "metadata": {
        "id": "IdRKIFlZKZfh"
      }
    },
    {
      "cell_type": "code",
      "source": [
        "import os\n",
        "from IPython.display import display, HTML\n",
        "\n",
        "exe_file = None\n",
        "\n",
        "# Read the Filename which ends with an EXE\n",
        "for file in os.listdir('.'):\n",
        "    if file.endswith('.exe'):\n",
        "        exe_file = file\n",
        "        break\n",
        "\n",
        "if exe_file:\n",
        "    # Run the main code to decompile the EXE File\n",
        "    os.system(f\"python3 run.py {exe_file}\")\n",
        "    display(HTML(\"<h1 style='color:green;'>Completed Successfully 🏆✌🏼 </h1>\"))\n",
        "else:\n",
        "    display(HTML(\"<h1 style='color:red;'>PLEASE UPLOAD THE EXE FILE AND RETRY </h1>\"))"
      ],
      "metadata": {
        "id": "gcgxJIBq32aq",
        "outputId": "98d7341a-1359-4c71-9e3a-d410353ae51b",
        "colab": {
          "base_uri": "https://localhost:8080/",
          "height": 74
        }
      },
      "execution_count": 5,
      "outputs": [
        {
          "output_type": "display_data",
          "data": {
            "text/plain": [
              "<IPython.core.display.HTML object>"
            ],
            "text/html": [
              "<h1 style='color:green;'>Completed Successfully 🏆✌🏼 </h1>"
            ]
          },
          "metadata": {}
        }
      ]
    },
    {
      "cell_type": "markdown",
      "source": [
        "## Download the Zip File of Decompiled files and folders"
      ],
      "metadata": {
        "id": "JghArHLdKmo-"
      }
    },
    {
      "cell_type": "code",
      "source": [
        "from google.colab import files\n",
        "\n",
        "# Specify the file you want to download\n",
        "file_path = f'{exe_file}_extracted.zip'\n",
        "\n",
        "# Download the file\n",
        "files.download(file_path)"
      ],
      "metadata": {
        "id": "5HAJ_5zrCQpe",
        "outputId": "fbb97441-3cea-4f91-9c57-e12260d526da",
        "colab": {
          "base_uri": "https://localhost:8080/",
          "height": 309
        }
      },
      "execution_count": 4,
      "outputs": [
        {
          "output_type": "error",
          "ename": "FileNotFoundError",
          "evalue": "Cannot find file: MatDeck.exe_extracted.zip",
          "traceback": [
            "\u001b[0;31m---------------------------------------------------------------------------\u001b[0m",
            "\u001b[0;31mFileNotFoundError\u001b[0m                         Traceback (most recent call last)",
            "\u001b[0;32m/tmp/ipython-input-4-3882066538.py\u001b[0m in \u001b[0;36m<cell line: 0>\u001b[0;34m()\u001b[0m\n\u001b[1;32m      5\u001b[0m \u001b[0;34m\u001b[0m\u001b[0m\n\u001b[1;32m      6\u001b[0m \u001b[0;31m# Download the file\u001b[0m\u001b[0;34m\u001b[0m\u001b[0;34m\u001b[0m\u001b[0m\n\u001b[0;32m----> 7\u001b[0;31m \u001b[0mfiles\u001b[0m\u001b[0;34m.\u001b[0m\u001b[0mdownload\u001b[0m\u001b[0;34m(\u001b[0m\u001b[0mfile_path\u001b[0m\u001b[0;34m)\u001b[0m\u001b[0;34m\u001b[0m\u001b[0;34m\u001b[0m\u001b[0m\n\u001b[0m",
            "\u001b[0;32m/usr/local/lib/python3.11/dist-packages/google/colab/files.py\u001b[0m in \u001b[0;36mdownload\u001b[0;34m(filename)\u001b[0m\n\u001b[1;32m    231\u001b[0m   \u001b[0;32mif\u001b[0m \u001b[0;32mnot\u001b[0m \u001b[0m_os\u001b[0m\u001b[0;34m.\u001b[0m\u001b[0mpath\u001b[0m\u001b[0;34m.\u001b[0m\u001b[0mexists\u001b[0m\u001b[0;34m(\u001b[0m\u001b[0mfilename\u001b[0m\u001b[0;34m)\u001b[0m\u001b[0;34m:\u001b[0m\u001b[0;34m\u001b[0m\u001b[0;34m\u001b[0m\u001b[0m\n\u001b[1;32m    232\u001b[0m     \u001b[0mmsg\u001b[0m \u001b[0;34m=\u001b[0m \u001b[0;34m'Cannot find file: {}'\u001b[0m\u001b[0;34m.\u001b[0m\u001b[0mformat\u001b[0m\u001b[0;34m(\u001b[0m\u001b[0mfilename\u001b[0m\u001b[0;34m)\u001b[0m\u001b[0;34m\u001b[0m\u001b[0;34m\u001b[0m\u001b[0m\n\u001b[0;32m--> 233\u001b[0;31m     \u001b[0;32mraise\u001b[0m \u001b[0mFileNotFoundError\u001b[0m\u001b[0;34m(\u001b[0m\u001b[0mmsg\u001b[0m\u001b[0;34m)\u001b[0m  \u001b[0;31m# pylint: disable=undefined-variable\u001b[0m\u001b[0;34m\u001b[0m\u001b[0;34m\u001b[0m\u001b[0m\n\u001b[0m\u001b[1;32m    234\u001b[0m \u001b[0;34m\u001b[0m\u001b[0m\n\u001b[1;32m    235\u001b[0m   \u001b[0mcomm_manager\u001b[0m \u001b[0;34m=\u001b[0m \u001b[0m_IPython\u001b[0m\u001b[0;34m.\u001b[0m\u001b[0mget_ipython\u001b[0m\u001b[0;34m(\u001b[0m\u001b[0;34m)\u001b[0m\u001b[0;34m.\u001b[0m\u001b[0mkernel\u001b[0m\u001b[0;34m.\u001b[0m\u001b[0mcomm_manager\u001b[0m\u001b[0;34m\u001b[0m\u001b[0;34m\u001b[0m\u001b[0m\n",
            "\u001b[0;31mFileNotFoundError\u001b[0m: Cannot find file: MatDeck.exe_extracted.zip"
          ]
        }
      ]
    },
    {
      "cell_type": "code",
      "source": [],
      "metadata": {
        "id": "t73UlcaAISUG"
      },
      "execution_count": null,
      "outputs": []
    }
  ],
  "metadata": {
    "colab": {
      "provenance": []
    },
    "kernelspec": {
      "display_name": "Python 3",
      "name": "python3"
    },
    "language_info": {
      "name": "python"
    }
  },
  "nbformat": 4,
  "nbformat_minor": 0
}